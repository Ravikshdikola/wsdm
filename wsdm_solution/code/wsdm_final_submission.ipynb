{
 "cells": [
  {
   "cell_type": "code",
   "execution_count": 1,
   "id": "56ed4f80",
   "metadata": {
    "execution": {
     "iopub.execute_input": "2025-02-03T06:28:53.531168Z",
     "iopub.status.busy": "2025-02-03T06:28:53.530849Z",
     "iopub.status.idle": "2025-02-03T06:28:54.420873Z",
     "shell.execute_reply": "2025-02-03T06:28:54.420123Z"
    },
    "papermill": {
     "duration": 0.901129,
     "end_time": "2025-02-03T06:28:54.422901",
     "exception": false,
     "start_time": "2025-02-03T06:28:53.521772",
     "status": "completed"
    },
    "tags": []
   },
   "outputs": [],
   "source": [
    "import pandas as pd\n",
    "\n",
    "train = pd.read_parquet('/kaggle/input/wsdm-cup-multilingual-chatbot-arena/test.parquet')"
   ]
  },
  {
   "cell_type": "code",
   "execution_count": 2,
   "id": "8055f92e",
   "metadata": {
    "execution": {
     "iopub.execute_input": "2025-02-03T06:28:54.439986Z",
     "iopub.status.busy": "2025-02-03T06:28:54.439206Z",
     "iopub.status.idle": "2025-02-03T06:28:56.306497Z",
     "shell.execute_reply": "2025-02-03T06:28:56.305458Z"
    },
    "papermill": {
     "duration": 1.877454,
     "end_time": "2025-02-03T06:28:56.308535",
     "exception": false,
     "start_time": "2025-02-03T06:28:54.431081",
     "status": "completed"
    },
    "tags": []
   },
   "outputs": [
    {
     "name": "stderr",
     "output_type": "stream",
     "text": [
      "100%|██████████| 3/3 [00:00<00:00, 128.03it/s]\n",
      "100%|██████████| 3/3 [00:00<00:00, 31.21it/s]"
     ]
    },
    {
     "name": "stdout",
     "output_type": "stream",
     "text": [
      "        id                                             prompt  \\\n",
      "0   327228  Caso Clínico: Un hombre de 70 años con anteced...   \n",
      "1  1139415   Peel Company received a cash dividend from a ...   \n",
      "2  1235630  Há um grave problema com o relógio da torre da...   \n",
      "\n",
      "                                          response_a  \\\n",
      "0  **Diagnóstico Diferencial de Anemia en Pacient...   \n",
      "1  The correct answer is **(a) No   No**. Here's ...   \n",
      "2  Dois problemas interessantes!\\n\\n**Problema 1:...   \n",
      "\n",
      "                                          response_b  scored  response_a_len  \\\n",
      "0  Basándonos en el caso clínico presentado, pode...   False            1961   \n",
      "1  The correct answer is **(a) No No**. Here's wh...   False             893   \n",
      "2  Vamos resolver os dois problemas em sequência....   False            1997   \n",
      "\n",
      "   response_a_spaces  response_a_punct  response_a_question_mark  \\\n",
      "0                322                28                         0   \n",
      "1                142                13                         0   \n",
      "2                381                38                         0   \n",
      "\n",
      "   response_a_quot  ...  overlap_ratio_2  cosine_similarity_a  \\\n",
      "0                0  ...         0.209016             0.703378   \n",
      "1                5  ...         0.670886             0.374975   \n",
      "2                2  ...         0.442308             0.512557   \n",
      "\n",
      "   cosine_similarity_b  cosine_similarity_ab  2gram_overlap_count  \\\n",
      "0             0.520680              0.765063                   22   \n",
      "1             0.414401              0.876672                    6   \n",
      "2             0.517243              0.688025                   44   \n",
      "\n",
      "   2gram_jaccard_index  sentiment_difference  sentiment_ratio  \\\n",
      "0             0.043478                 0.325         0.000000   \n",
      "1             0.038961                 0.020         0.948276   \n",
      "2             0.127907                 0.150         0.000000   \n",
      "\n",
      "   special_char_count_a  special_char_count_b  \n",
      "0                   406                   666  \n",
      "1                   186                   174  \n",
      "2                   441                   376  \n",
      "\n",
      "[3 rows x 59 columns]\n"
     ]
    },
    {
     "name": "stderr",
     "output_type": "stream",
     "text": [
      "\n"
     ]
    }
   ],
   "source": [
    "import string\n",
    "import pandas as pd\n",
    "from sklearn.feature_extraction.text import TfidfVectorizer\n",
    "from sklearn.metrics.pairwise import cosine_similarity\n",
    "from nltk.util import ngrams  # For n-gram overlap\n",
    "from textblob import TextBlob  # For sentiment analysis\n",
    "from tqdm import tqdm\n",
    "\n",
    "tqdm.pandas()  # Enable progress bar for pandas operations\n",
    "\n",
    "# Define the check list for special characters\n",
    "check_list = ['*', \"'\", '-', ',', '|', '\\n', '$', '}', '{', ']', '[', '(', ')', '#', '^', \"=\", \";\", '\"',\n",
    "              '.', '**', ' ', '##', '###', \"'s\", ':']\n",
    "\n",
    "# Function to compute text-based column features\n",
    "def compute_feats(df):\n",
    "    for col in tqdm([\"response_a\", \"response_b\", \"prompt\"]):\n",
    "        df[f\"{col}_len\"] = df[col].str.len()\n",
    "        df[f\"{col}_spaces\"] = df[col].str.count(\"\\s\")\n",
    "        df[f\"{col}_punct\"] = df[col].str.count(\",|\\.|!\")\n",
    "        df[f\"{col}_question_mark\"] = df[col].str.count(\"\\?\")\n",
    "        df[f\"{col}_quot\"] = df[col].str.count(\"'|\\\"\")\n",
    "        df[f\"{col}_formatting_chars\"] = df[col].str.count(\"\\*|\\_\")\n",
    "        df[f\"{col}_math_chars\"] = df[col].str.count(\"\\-|\\+|\\=\")\n",
    "        df[f\"{col}_curly_open\"] = df[col].str.count(\"\\{\")\n",
    "        df[f\"{col}_curly_close\"] = df[col].str.count(\"}\")\n",
    "        df[f\"{col}_round_open\"] = df[col].str.count(\"\\(\")\n",
    "        df[f\"{col}_round_close\"] = df[col].str.count(\"\\)\")\n",
    "        df[f\"{col}_special_chars\"] = df[col].str.count(\"\\W\")\n",
    "        df[f\"{col}_json\"] = df[col].str.lower().str.count(\"json\")\n",
    "        df[f\"{col}_yaml\"] = df[col].str.lower().str.count(\"yaml\")\n",
    "    return df\n",
    "\n",
    "# Function to calculate overlap features\n",
    "def overlap_features(text1, text2):\n",
    "    set1 = set(text1.split())\n",
    "    set2 = set(text2.split())\n",
    "    common_words = set1.intersection(set2)\n",
    "    return {\n",
    "        \"overlap_count\": len(common_words),\n",
    "        \"overlap_ratio_1\": len(common_words) / len(set1) if set1 else 0,\n",
    "        \"overlap_ratio_2\": len(common_words) / len(set2) if set2 else 0,\n",
    "    }\n",
    "\n",
    "# Function to calculate n-gram overlap features\n",
    "def ngram_overlap(text1, text2, n):\n",
    "    ngrams1 = set(ngrams(text1.split(), n))\n",
    "    ngrams2 = set(ngrams(text2.split(), n))\n",
    "    overlap_count = len(ngrams1 & ngrams2)\n",
    "    jaccard_index = overlap_count / len(ngrams1 | ngrams2) if (ngrams1 | ngrams2) else 0\n",
    "    return {\n",
    "        f\"{n}gram_overlap_count\": overlap_count,\n",
    "        f\"{n}gram_jaccard_index\": jaccard_index,\n",
    "    }\n",
    "\n",
    "# Function to calculate sentiment differences\n",
    "def sentiment_difference(text1, text2):\n",
    "    sentiment1 = TextBlob(text1).sentiment.polarity\n",
    "    sentiment2 = TextBlob(text2).sentiment.polarity\n",
    "    return {\n",
    "        \"sentiment_difference\": abs(sentiment1 - sentiment2),\n",
    "        \"sentiment_ratio\": sentiment1 / sentiment2 if sentiment2 != 0 else 0,\n",
    "    }\n",
    "\n",
    "# Function to compute special character counts\n",
    "def special_char_count_feature(row, check_list):\n",
    "    total_count_a = sum(list(row[\"response_a\"]).count(char) for char in check_list)\n",
    "    total_count_b = sum(list(row[\"response_b\"]).count(char) for char in check_list)\n",
    "    return {\n",
    "        \"special_char_count_a\": total_count_a,\n",
    "        \"special_char_count_b\": total_count_b,\n",
    "    }\n",
    "\n",
    "# Function to calculate cosine similarity\n",
    "def cosine_similarity_feature(text1, text2):\n",
    "    try:\n",
    "        if not text1.strip() or not text2.strip():  # Check for empty or invalid text\n",
    "            return 0.0\n",
    "        vectorizer = TfidfVectorizer()\n",
    "        tfidf_matrix = vectorizer.fit_transform([text1, text2])\n",
    "        return cosine_similarity(tfidf_matrix[0:1], tfidf_matrix[1:2])[0, 0]\n",
    "    except ValueError:\n",
    "        return 0.0  # Handle empty vocabulary cases\n",
    "\n",
    "# Main feature extraction function for each row\n",
    "def extract_features_row(row):\n",
    "    overlap_a = overlap_features(row[\"prompt\"], row[\"response_a\"])\n",
    "    overlap_b = overlap_features(row[\"prompt\"], row[\"response_b\"])\n",
    "    response_overlap = overlap_features(row[\"response_a\"], row[\"response_b\"])\n",
    "    cosine_similarity_a = cosine_similarity_feature(row[\"prompt\"], row[\"response_a\"])\n",
    "    cosine_similarity_b = cosine_similarity_feature(row[\"prompt\"], row[\"response_b\"])\n",
    "    cosine_similarity_ab = cosine_similarity_feature(row[\"response_a\"], row[\"response_b\"])\n",
    "\n",
    "    ngram_features = {\n",
    "        **ngram_overlap(row[\"prompt\"], row[\"response_a\"], 2),\n",
    "        **ngram_overlap(row[\"prompt\"], row[\"response_b\"], 2),\n",
    "    }\n",
    "\n",
    "    sentiment_features = {\n",
    "        **sentiment_difference(row[\"prompt\"], row[\"response_a\"]),\n",
    "        **sentiment_difference(row[\"prompt\"], row[\"response_b\"]),\n",
    "    }\n",
    "\n",
    "    special_char_features = special_char_count_feature(row, check_list)\n",
    "\n",
    "    all_features = {\n",
    "        **overlap_a,\n",
    "        **overlap_b,\n",
    "        **response_overlap,\n",
    "        \"cosine_similarity_a\": cosine_similarity_a,\n",
    "        \"cosine_similarity_b\": cosine_similarity_b,\n",
    "        \"cosine_similarity_ab\": cosine_similarity_ab,\n",
    "        **ngram_features,\n",
    "        **sentiment_features,\n",
    "        **special_char_features,\n",
    "    }\n",
    "    return all_features\n",
    "\n",
    "# Function to extract all features\n",
    "def extract_all_features(data):\n",
    "    data = compute_feats(data)\n",
    "    feature_dicts = []\n",
    "    for _, row in tqdm(data.iterrows(), total=len(data)):\n",
    "        feature_dicts.append(extract_features_row(row))\n",
    "    additional_features_df = pd.DataFrame(feature_dicts)\n",
    "    combined_features_df = pd.concat([data.reset_index(drop=True), additional_features_df.reset_index(drop=True)], axis=1)\n",
    "    return combined_features_df\n",
    "\n",
    "# Create an inverted dataset for augmentation\n",
    "\n",
    "\n",
    "# Combine original and inverted datasets\n",
    "\n",
    "\n",
    "# Extract all features\n",
    "features_df = extract_all_features(train)\n",
    "\n",
    "# Display extracted features\n",
    "print(features_df)\n"
   ]
  },
  {
   "cell_type": "code",
   "execution_count": 3,
   "id": "7845f067",
   "metadata": {
    "execution": {
     "iopub.execute_input": "2025-02-03T06:28:56.325540Z",
     "iopub.status.busy": "2025-02-03T06:28:56.324683Z",
     "iopub.status.idle": "2025-02-03T06:28:56.331471Z",
     "shell.execute_reply": "2025-02-03T06:28:56.330681Z"
    },
    "papermill": {
     "duration": 0.017142,
     "end_time": "2025-02-03T06:28:56.333162",
     "exception": false,
     "start_time": "2025-02-03T06:28:56.316020",
     "status": "completed"
    },
    "tags": []
   },
   "outputs": [
    {
     "data": {
      "text/plain": [
       "Index(['id', 'prompt', 'response_a', 'response_b', 'scored', 'response_a_len',\n",
       "       'response_a_spaces', 'response_a_punct', 'response_a_question_mark',\n",
       "       'response_a_quot', 'response_a_formatting_chars',\n",
       "       'response_a_math_chars', 'response_a_curly_open',\n",
       "       'response_a_curly_close', 'response_a_round_open',\n",
       "       'response_a_round_close', 'response_a_special_chars', 'response_a_json',\n",
       "       'response_a_yaml', 'response_b_len', 'response_b_spaces',\n",
       "       'response_b_punct', 'response_b_question_mark', 'response_b_quot',\n",
       "       'response_b_formatting_chars', 'response_b_math_chars',\n",
       "       'response_b_curly_open', 'response_b_curly_close',\n",
       "       'response_b_round_open', 'response_b_round_close',\n",
       "       'response_b_special_chars', 'response_b_json', 'response_b_yaml',\n",
       "       'prompt_len', 'prompt_spaces', 'prompt_punct', 'prompt_question_mark',\n",
       "       'prompt_quot', 'prompt_formatting_chars', 'prompt_math_chars',\n",
       "       'prompt_curly_open', 'prompt_curly_close', 'prompt_round_open',\n",
       "       'prompt_round_close', 'prompt_special_chars', 'prompt_json',\n",
       "       'prompt_yaml'],\n",
       "      dtype='object')"
      ]
     },
     "execution_count": 3,
     "metadata": {},
     "output_type": "execute_result"
    }
   ],
   "source": [
    "train.columns"
   ]
  },
  {
   "cell_type": "code",
   "execution_count": 4,
   "id": "5e91bc72",
   "metadata": {
    "execution": {
     "iopub.execute_input": "2025-02-03T06:28:56.349323Z",
     "iopub.status.busy": "2025-02-03T06:28:56.348998Z",
     "iopub.status.idle": "2025-02-03T06:28:56.355145Z",
     "shell.execute_reply": "2025-02-03T06:28:56.354383Z"
    },
    "papermill": {
     "duration": 0.016253,
     "end_time": "2025-02-03T06:28:56.356944",
     "exception": false,
     "start_time": "2025-02-03T06:28:56.340691",
     "status": "completed"
    },
    "tags": []
   },
   "outputs": [
    {
     "data": {
      "text/plain": [
       "0    False\n",
       "1    False\n",
       "2    False\n",
       "Name: scored, dtype: bool"
      ]
     },
     "execution_count": 4,
     "metadata": {},
     "output_type": "execute_result"
    }
   ],
   "source": [
    "train['scored']"
   ]
  },
  {
   "cell_type": "code",
   "execution_count": 5,
   "id": "3c491ed7",
   "metadata": {
    "execution": {
     "iopub.execute_input": "2025-02-03T06:28:56.374221Z",
     "iopub.status.busy": "2025-02-03T06:28:56.373581Z",
     "iopub.status.idle": "2025-02-03T06:28:56.379446Z",
     "shell.execute_reply": "2025-02-03T06:28:56.378546Z"
    },
    "papermill": {
     "duration": 0.016077,
     "end_time": "2025-02-03T06:28:56.381108",
     "exception": false,
     "start_time": "2025-02-03T06:28:56.365031",
     "status": "completed"
    },
    "tags": []
   },
   "outputs": [
    {
     "data": {
      "text/plain": [
       "Index(['id', 'prompt', 'response_a', 'response_b', 'scored', 'response_a_len',\n",
       "       'response_a_spaces', 'response_a_punct', 'response_a_question_mark',\n",
       "       'response_a_quot', 'response_a_formatting_chars',\n",
       "       'response_a_math_chars', 'response_a_curly_open',\n",
       "       'response_a_curly_close', 'response_a_round_open',\n",
       "       'response_a_round_close', 'response_a_special_chars', 'response_a_json',\n",
       "       'response_a_yaml', 'response_b_len', 'response_b_spaces',\n",
       "       'response_b_punct', 'response_b_question_mark', 'response_b_quot',\n",
       "       'response_b_formatting_chars', 'response_b_math_chars',\n",
       "       'response_b_curly_open', 'response_b_curly_close',\n",
       "       'response_b_round_open', 'response_b_round_close',\n",
       "       'response_b_special_chars', 'response_b_json', 'response_b_yaml',\n",
       "       'prompt_len', 'prompt_spaces', 'prompt_punct', 'prompt_question_mark',\n",
       "       'prompt_quot', 'prompt_formatting_chars', 'prompt_math_chars',\n",
       "       'prompt_curly_open', 'prompt_curly_close', 'prompt_round_open',\n",
       "       'prompt_round_close', 'prompt_special_chars', 'prompt_json',\n",
       "       'prompt_yaml', 'overlap_count', 'overlap_ratio_1', 'overlap_ratio_2',\n",
       "       'cosine_similarity_a', 'cosine_similarity_b', 'cosine_similarity_ab',\n",
       "       '2gram_overlap_count', '2gram_jaccard_index', 'sentiment_difference',\n",
       "       'sentiment_ratio', 'special_char_count_a', 'special_char_count_b'],\n",
       "      dtype='object')"
      ]
     },
     "execution_count": 5,
     "metadata": {},
     "output_type": "execute_result"
    }
   ],
   "source": [
    "features_df.columns"
   ]
  },
  {
   "cell_type": "code",
   "execution_count": 6,
   "id": "542a53f9",
   "metadata": {
    "execution": {
     "iopub.execute_input": "2025-02-03T06:28:56.398308Z",
     "iopub.status.busy": "2025-02-03T06:28:56.397490Z",
     "iopub.status.idle": "2025-02-03T06:28:56.402509Z",
     "shell.execute_reply": "2025-02-03T06:28:56.401736Z"
    },
    "papermill": {
     "duration": 0.015411,
     "end_time": "2025-02-03T06:28:56.404191",
     "exception": false,
     "start_time": "2025-02-03T06:28:56.388780",
     "status": "completed"
    },
    "tags": []
   },
   "outputs": [],
   "source": [
    "features_df = features_df.drop(columns=['id', 'prompt', 'response_a', 'response_b', 'scored'])\n"
   ]
  },
  {
   "cell_type": "code",
   "execution_count": 7,
   "id": "21511a91",
   "metadata": {
    "execution": {
     "iopub.execute_input": "2025-02-03T06:28:56.421002Z",
     "iopub.status.busy": "2025-02-03T06:28:56.420438Z",
     "iopub.status.idle": "2025-02-03T06:28:56.425883Z",
     "shell.execute_reply": "2025-02-03T06:28:56.425021Z"
    },
    "papermill": {
     "duration": 0.015767,
     "end_time": "2025-02-03T06:28:56.427654",
     "exception": false,
     "start_time": "2025-02-03T06:28:56.411887",
     "status": "completed"
    },
    "tags": []
   },
   "outputs": [
    {
     "data": {
      "text/plain": [
       "(3, 54)"
      ]
     },
     "execution_count": 7,
     "metadata": {},
     "output_type": "execute_result"
    }
   ],
   "source": [
    "features_df.shape\n"
   ]
  },
  {
   "cell_type": "code",
   "execution_count": null,
   "id": "a2d2eee9",
   "metadata": {
    "execution": {
     "iopub.execute_input": "2025-02-03T06:28:56.444327Z",
     "iopub.status.busy": "2025-02-03T06:28:56.443993Z",
     "iopub.status.idle": "2025-02-03T06:28:59.840161Z",
     "shell.execute_reply": "2025-02-03T06:28:59.836670Z"
    },
    "papermill": {
     "duration": 3.407612,
     "end_time": "2025-02-03T06:28:59.842963",
     "exception": false,
     "start_time": "2025-02-03T06:28:56.435351",
     "status": "completed"
    },
    "tags": []
   },
   "outputs": [
    {
     "name": "stdout",
     "output_type": "stream",
     "text": [
      "[LightGBM] [Warning] Ignoring unrecognized parameter 'early_stopping_min_delta' found in model string.\n"
     ]
    }
   ],
   "source": [
    "import lightgbm as lgb\n",
    "model = lgb.Booster(model_file='/kaggle/input/lgbm_v1/other/default/1/lgbm_model.txt')\n"
   ]
  },
  {
   "cell_type": "code",
   "execution_count": null,
   "id": "137b9bbe",
   "metadata": {
    "execution": {
     "iopub.execute_input": "2025-02-03T06:28:59.875351Z",
     "iopub.status.busy": "2025-02-03T06:28:59.873841Z",
     "iopub.status.idle": "2025-02-03T06:28:59.969954Z",
     "shell.execute_reply": "2025-02-03T06:28:59.963982Z"
    },
    "papermill": {
     "duration": 0.115974,
     "end_time": "2025-02-03T06:28:59.973607",
     "exception": false,
     "start_time": "2025-02-03T06:28:59.857633",
     "status": "completed"
    },
    "tags": []
   },
   "outputs": [],
   "source": [
    "y_pred_proba = model.predict(features_df)\n",
    "y_pred =['model_b' if i>=0.5 else 'model_a' for i in  y_pred_proba]"
   ]
  },
  {
   "cell_type": "code",
   "execution_count": 10,
   "id": "31d53b18",
   "metadata": {
    "execution": {
     "iopub.execute_input": "2025-02-03T06:29:00.039378Z",
     "iopub.status.busy": "2025-02-03T06:29:00.038997Z",
     "iopub.status.idle": "2025-02-03T06:29:00.054177Z",
     "shell.execute_reply": "2025-02-03T06:29:00.052642Z"
    },
    "papermill": {
     "duration": 0.051062,
     "end_time": "2025-02-03T06:29:00.057501",
     "exception": false,
     "start_time": "2025-02-03T06:29:00.006439",
     "status": "completed"
    },
    "tags": []
   },
   "outputs": [],
   "source": [
    "import pandas as pd\n",
    "\n",
    "sub = pd.read_csv('/kaggle/input/wsdm-cup-multilingual-chatbot-arena/sample_submission.csv')"
   ]
  },
  {
   "cell_type": "code",
   "execution_count": 11,
   "id": "65fa1b35",
   "metadata": {
    "execution": {
     "iopub.execute_input": "2025-02-03T06:29:00.095804Z",
     "iopub.status.busy": "2025-02-03T06:29:00.095461Z",
     "iopub.status.idle": "2025-02-03T06:29:00.099586Z",
     "shell.execute_reply": "2025-02-03T06:29:00.098753Z"
    },
    "papermill": {
     "duration": 0.023139,
     "end_time": "2025-02-03T06:29:00.101889",
     "exception": false,
     "start_time": "2025-02-03T06:29:00.078750",
     "status": "completed"
    },
    "tags": []
   },
   "outputs": [],
   "source": [
    "sub['winner'] = y_pred"
   ]
  },
  {
   "cell_type": "code",
   "execution_count": 12,
   "id": "9d3e9631",
   "metadata": {
    "execution": {
     "iopub.execute_input": "2025-02-03T06:29:00.127102Z",
     "iopub.status.busy": "2025-02-03T06:29:00.126445Z",
     "iopub.status.idle": "2025-02-03T06:29:00.136524Z",
     "shell.execute_reply": "2025-02-03T06:29:00.135627Z"
    },
    "papermill": {
     "duration": 0.020864,
     "end_time": "2025-02-03T06:29:00.138625",
     "exception": false,
     "start_time": "2025-02-03T06:29:00.117761",
     "status": "completed"
    },
    "tags": []
   },
   "outputs": [
    {
     "data": {
      "text/html": [
       "<div>\n",
       "<style scoped>\n",
       "    .dataframe tbody tr th:only-of-type {\n",
       "        vertical-align: middle;\n",
       "    }\n",
       "\n",
       "    .dataframe tbody tr th {\n",
       "        vertical-align: top;\n",
       "    }\n",
       "\n",
       "    .dataframe thead th {\n",
       "        text-align: right;\n",
       "    }\n",
       "</style>\n",
       "<table border=\"1\" class=\"dataframe\">\n",
       "  <thead>\n",
       "    <tr style=\"text-align: right;\">\n",
       "      <th></th>\n",
       "      <th>id</th>\n",
       "      <th>winner</th>\n",
       "    </tr>\n",
       "  </thead>\n",
       "  <tbody>\n",
       "    <tr>\n",
       "      <th>0</th>\n",
       "      <td>327228</td>\n",
       "      <td>model_b</td>\n",
       "    </tr>\n",
       "    <tr>\n",
       "      <th>1</th>\n",
       "      <td>1139415</td>\n",
       "      <td>model_b</td>\n",
       "    </tr>\n",
       "    <tr>\n",
       "      <th>2</th>\n",
       "      <td>1235630</td>\n",
       "      <td>model_a</td>\n",
       "    </tr>\n",
       "  </tbody>\n",
       "</table>\n",
       "</div>"
      ],
      "text/plain": [
       "        id   winner\n",
       "0   327228  model_b\n",
       "1  1139415  model_b\n",
       "2  1235630  model_a"
      ]
     },
     "execution_count": 12,
     "metadata": {},
     "output_type": "execute_result"
    }
   ],
   "source": [
    "sub"
   ]
  },
  {
   "cell_type": "code",
   "execution_count": 13,
   "id": "0baf7e54",
   "metadata": {
    "execution": {
     "iopub.execute_input": "2025-02-03T06:29:00.157287Z",
     "iopub.status.busy": "2025-02-03T06:29:00.156926Z",
     "iopub.status.idle": "2025-02-03T06:29:00.163773Z",
     "shell.execute_reply": "2025-02-03T06:29:00.162897Z"
    },
    "papermill": {
     "duration": 0.018825,
     "end_time": "2025-02-03T06:29:00.166441",
     "exception": false,
     "start_time": "2025-02-03T06:29:00.147616",
     "status": "completed"
    },
    "tags": []
   },
   "outputs": [],
   "source": [
    "sub.to_csv('submission.csv',index=False)"
   ]
  },
  {
   "cell_type": "code",
   "execution_count": null,
   "id": "8ecd92f0",
   "metadata": {
    "papermill": {
     "duration": 0.008546,
     "end_time": "2025-02-03T06:29:00.191242",
     "exception": false,
     "start_time": "2025-02-03T06:29:00.182696",
     "status": "completed"
    },
    "tags": []
   },
   "outputs": [],
   "source": []
  }
 ],
 "metadata": {
  "kaggle": {
   "accelerator": "gpu",
   "dataSources": [
    {
     "databundleVersionId": 10131489,
     "sourceId": 86946,
     "sourceType": "competition"
    },
    {
     "datasetId": 4581967,
     "sourceId": 10643356,
     "sourceType": "datasetVersion"
    },
    {
     "modelId": 183402,
     "modelInstanceId": 161016,
     "sourceId": 188860,
     "sourceType": "modelInstanceVersion"
    },
    {
     "modelId": 183404,
     "modelInstanceId": 161018,
     "sourceId": 188862,
     "sourceType": "modelInstanceVersion"
    },
    {
     "modelId": 193186,
     "modelInstanceId": 170877,
     "sourceId": 200303,
     "sourceType": "modelInstanceVersion"
    },
    {
     "modelId": 220115,
     "modelInstanceId": 198293,
     "sourceId": 232407,
     "sourceType": "modelInstanceVersion"
    },
    {
     "modelId": 222593,
     "modelInstanceId": 200775,
     "sourceId": 235033,
     "sourceType": "modelInstanceVersion"
    },
    {
     "modelId": 222650,
     "modelInstanceId": 200836,
     "sourceId": 235114,
     "sourceType": "modelInstanceVersion"
    },
    {
     "modelId": 224538,
     "modelInstanceId": 202808,
     "sourceId": 237482,
     "sourceType": "modelInstanceVersion"
    },
    {
     "modelId": 233725,
     "modelInstanceId": 212050,
     "sourceId": 248112,
     "sourceType": "modelInstanceVersion"
    },
    {
     "isSourceIdPinned": true,
     "modelId": 224550,
     "modelInstanceId": 202821,
     "sourceId": 237496,
     "sourceType": "modelInstanceVersion"
    }
   ],
   "dockerImageVersionId": 30787,
   "isGpuEnabled": true,
   "isInternetEnabled": false,
   "language": "python",
   "sourceType": "notebook"
  },
  "kernelspec": {
   "display_name": "Python 3",
   "language": "python",
   "name": "python3"
  },
  "language_info": {
   "codemirror_mode": {
    "name": "ipython",
    "version": 3
   },
   "file_extension": ".py",
   "mimetype": "text/x-python",
   "name": "python",
   "nbconvert_exporter": "python",
   "pygments_lexer": "ipython3",
   "version": "3.10.14"
  },
  "papermill": {
   "default_parameters": {},
   "duration": 10.139167,
   "end_time": "2025-02-03T06:29:01.122437",
   "environment_variables": {},
   "exception": null,
   "input_path": "__notebook__.ipynb",
   "output_path": "__notebook__.ipynb",
   "parameters": {},
   "start_time": "2025-02-03T06:28:50.983270",
   "version": "2.6.0"
  },
  "widgets": {
   "application/vnd.jupyter.widget-state+json": {
    "state": {
     "011a8c565c2447969a08180995f45300": {
      "model_module": "@jupyter-widgets/controls",
      "model_module_version": "1.5.0",
      "model_name": "HTMLModel",
      "state": {
       "_dom_classes": [],
       "_model_module": "@jupyter-widgets/controls",
       "_model_module_version": "1.5.0",
       "_model_name": "HTMLModel",
       "_view_count": null,
       "_view_module": "@jupyter-widgets/controls",
       "_view_module_version": "1.5.0",
       "_view_name": "HTMLView",
       "description": "",
       "description_tooltip": null,
       "layout": "IPY_MODEL_1fb7f2cd6e23403e8b603564db3b44d0",
       "placeholder": "​",
       "style": "IPY_MODEL_8f9ef5d92ae74affbf898cf93ea6bd8c",
       "value": " 1/1 [00:00&lt;00:00, 13.48it/s]"
      }
     },
     "04200efd549a449c95c14ba2b8e5e744": {
      "model_module": "@jupyter-widgets/controls",
      "model_module_version": "1.5.0",
      "model_name": "DescriptionStyleModel",
      "state": {
       "_model_module": "@jupyter-widgets/controls",
       "_model_module_version": "1.5.0",
       "_model_name": "DescriptionStyleModel",
       "_view_count": null,
       "_view_module": "@jupyter-widgets/base",
       "_view_module_version": "1.2.0",
       "_view_name": "StyleView",
       "description_width": ""
      }
     },
     "0b3b63f845554c3e9ec122a22557496f": {
      "model_module": "@jupyter-widgets/base",
      "model_module_version": "1.2.0",
      "model_name": "LayoutModel",
      "state": {
       "_model_module": "@jupyter-widgets/base",
       "_model_module_version": "1.2.0",
       "_model_name": "LayoutModel",
       "_view_count": null,
       "_view_module": "@jupyter-widgets/base",
       "_view_module_version": "1.2.0",
       "_view_name": "LayoutView",
       "align_content": null,
       "align_items": null,
       "align_self": null,
       "border": null,
       "bottom": null,
       "display": null,
       "flex": null,
       "flex_flow": null,
       "grid_area": null,
       "grid_auto_columns": null,
       "grid_auto_flow": null,
       "grid_auto_rows": null,
       "grid_column": null,
       "grid_gap": null,
       "grid_row": null,
       "grid_template_areas": null,
       "grid_template_columns": null,
       "grid_template_rows": null,
       "height": null,
       "justify_content": null,
       "justify_items": null,
       "left": null,
       "margin": null,
       "max_height": null,
       "max_width": null,
       "min_height": null,
       "min_width": null,
       "object_fit": null,
       "object_position": null,
       "order": null,
       "overflow": null,
       "overflow_x": null,
       "overflow_y": null,
       "padding": null,
       "right": null,
       "top": null,
       "visibility": null,
       "width": null
      }
     },
     "0c9c31c238804ff289f35944c0ef60ab": {
      "model_module": "@jupyter-widgets/controls",
      "model_module_version": "1.5.0",
      "model_name": "DescriptionStyleModel",
      "state": {
       "_model_module": "@jupyter-widgets/controls",
       "_model_module_version": "1.5.0",
       "_model_name": "DescriptionStyleModel",
       "_view_count": null,
       "_view_module": "@jupyter-widgets/base",
       "_view_module_version": "1.2.0",
       "_view_name": "StyleView",
       "description_width": ""
      }
     },
     "1fb7f2cd6e23403e8b603564db3b44d0": {
      "model_module": "@jupyter-widgets/base",
      "model_module_version": "1.2.0",
      "model_name": "LayoutModel",
      "state": {
       "_model_module": "@jupyter-widgets/base",
       "_model_module_version": "1.2.0",
       "_model_name": "LayoutModel",
       "_view_count": null,
       "_view_module": "@jupyter-widgets/base",
       "_view_module_version": "1.2.0",
       "_view_name": "LayoutView",
       "align_content": null,
       "align_items": null,
       "align_self": null,
       "border": null,
       "bottom": null,
       "display": null,
       "flex": null,
       "flex_flow": null,
       "grid_area": null,
       "grid_auto_columns": null,
       "grid_auto_flow": null,
       "grid_auto_rows": null,
       "grid_column": null,
       "grid_gap": null,
       "grid_row": null,
       "grid_template_areas": null,
       "grid_template_columns": null,
       "grid_template_rows": null,
       "height": null,
       "justify_content": null,
       "justify_items": null,
       "left": null,
       "margin": null,
       "max_height": null,
       "max_width": null,
       "min_height": null,
       "min_width": null,
       "object_fit": null,
       "object_position": null,
       "order": null,
       "overflow": null,
       "overflow_x": null,
       "overflow_y": null,
       "padding": null,
       "right": null,
       "top": null,
       "visibility": null,
       "width": null
      }
     },
     "22ed0daeabce4957aeb929d2a2307d64": {
      "model_module": "@jupyter-widgets/controls",
      "model_module_version": "1.5.0",
      "model_name": "DescriptionStyleModel",
      "state": {
       "_model_module": "@jupyter-widgets/controls",
       "_model_module_version": "1.5.0",
       "_model_name": "DescriptionStyleModel",
       "_view_count": null,
       "_view_module": "@jupyter-widgets/base",
       "_view_module_version": "1.2.0",
       "_view_name": "StyleView",
       "description_width": ""
      }
     },
     "263887cd147f45f7be346ef4a3bd93ca": {
      "model_module": "@jupyter-widgets/base",
      "model_module_version": "1.2.0",
      "model_name": "LayoutModel",
      "state": {
       "_model_module": "@jupyter-widgets/base",
       "_model_module_version": "1.2.0",
       "_model_name": "LayoutModel",
       "_view_count": null,
       "_view_module": "@jupyter-widgets/base",
       "_view_module_version": "1.2.0",
       "_view_name": "LayoutView",
       "align_content": null,
       "align_items": null,
       "align_self": null,
       "border": null,
       "bottom": null,
       "display": null,
       "flex": null,
       "flex_flow": null,
       "grid_area": null,
       "grid_auto_columns": null,
       "grid_auto_flow": null,
       "grid_auto_rows": null,
       "grid_column": null,
       "grid_gap": null,
       "grid_row": null,
       "grid_template_areas": null,
       "grid_template_columns": null,
       "grid_template_rows": null,
       "height": null,
       "justify_content": null,
       "justify_items": null,
       "left": null,
       "margin": null,
       "max_height": null,
       "max_width": null,
       "min_height": null,
       "min_width": null,
       "object_fit": null,
       "object_position": null,
       "order": null,
       "overflow": null,
       "overflow_x": null,
       "overflow_y": null,
       "padding": null,
       "right": null,
       "top": null,
       "visibility": null,
       "width": null
      }
     },
     "39961f193ef746d3bc2b057a95a0d64c": {
      "model_module": "@jupyter-widgets/base",
      "model_module_version": "1.2.0",
      "model_name": "LayoutModel",
      "state": {
       "_model_module": "@jupyter-widgets/base",
       "_model_module_version": "1.2.0",
       "_model_name": "LayoutModel",
       "_view_count": null,
       "_view_module": "@jupyter-widgets/base",
       "_view_module_version": "1.2.0",
       "_view_name": "LayoutView",
       "align_content": null,
       "align_items": null,
       "align_self": null,
       "border": null,
       "bottom": null,
       "display": null,
       "flex": null,
       "flex_flow": null,
       "grid_area": null,
       "grid_auto_columns": null,
       "grid_auto_flow": null,
       "grid_auto_rows": null,
       "grid_column": null,
       "grid_gap": null,
       "grid_row": null,
       "grid_template_areas": null,
       "grid_template_columns": null,
       "grid_template_rows": null,
       "height": null,
       "justify_content": null,
       "justify_items": null,
       "left": null,
       "margin": null,
       "max_height": null,
       "max_width": null,
       "min_height": null,
       "min_width": null,
       "object_fit": null,
       "object_position": null,
       "order": null,
       "overflow": null,
       "overflow_x": null,
       "overflow_y": null,
       "padding": null,
       "right": null,
       "top": null,
       "visibility": null,
       "width": null
      }
     },
     "3e073be147f047eab93041b6f10a2aa5": {
      "model_module": "@jupyter-widgets/base",
      "model_module_version": "1.2.0",
      "model_name": "LayoutModel",
      "state": {
       "_model_module": "@jupyter-widgets/base",
       "_model_module_version": "1.2.0",
       "_model_name": "LayoutModel",
       "_view_count": null,
       "_view_module": "@jupyter-widgets/base",
       "_view_module_version": "1.2.0",
       "_view_name": "LayoutView",
       "align_content": null,
       "align_items": null,
       "align_self": null,
       "border": null,
       "bottom": null,
       "display": null,
       "flex": null,
       "flex_flow": null,
       "grid_area": null,
       "grid_auto_columns": null,
       "grid_auto_flow": null,
       "grid_auto_rows": null,
       "grid_column": null,
       "grid_gap": null,
       "grid_row": null,
       "grid_template_areas": null,
       "grid_template_columns": null,
       "grid_template_rows": null,
       "height": null,
       "justify_content": null,
       "justify_items": null,
       "left": null,
       "margin": null,
       "max_height": null,
       "max_width": null,
       "min_height": null,
       "min_width": null,
       "object_fit": null,
       "object_position": null,
       "order": null,
       "overflow": null,
       "overflow_x": null,
       "overflow_y": null,
       "padding": null,
       "right": null,
       "top": null,
       "visibility": null,
       "width": null
      }
     },
     "47d1d09ceffc469c85bd3e50c206fad1": {
      "model_module": "@jupyter-widgets/controls",
      "model_module_version": "1.5.0",
      "model_name": "FloatProgressModel",
      "state": {
       "_dom_classes": [],
       "_model_module": "@jupyter-widgets/controls",
       "_model_module_version": "1.5.0",
       "_model_name": "FloatProgressModel",
       "_view_count": null,
       "_view_module": "@jupyter-widgets/controls",
       "_view_module_version": "1.5.0",
       "_view_name": "ProgressView",
       "bar_style": "success",
       "description": "",
       "description_tooltip": null,
       "layout": "IPY_MODEL_748b6a1c08f14098a30c4737101ebb4b",
       "max": 1,
       "min": 0,
       "orientation": "horizontal",
       "style": "IPY_MODEL_74381265229641feaed24c1e0f1c4f07",
       "value": 1
      }
     },
     "4c711cd49cd84c218b6c2fea8e243817": {
      "model_module": "@jupyter-widgets/base",
      "model_module_version": "1.2.0",
      "model_name": "LayoutModel",
      "state": {
       "_model_module": "@jupyter-widgets/base",
       "_model_module_version": "1.2.0",
       "_model_name": "LayoutModel",
       "_view_count": null,
       "_view_module": "@jupyter-widgets/base",
       "_view_module_version": "1.2.0",
       "_view_name": "LayoutView",
       "align_content": null,
       "align_items": null,
       "align_self": null,
       "border": null,
       "bottom": null,
       "display": null,
       "flex": null,
       "flex_flow": null,
       "grid_area": null,
       "grid_auto_columns": null,
       "grid_auto_flow": null,
       "grid_auto_rows": null,
       "grid_column": null,
       "grid_gap": null,
       "grid_row": null,
       "grid_template_areas": null,
       "grid_template_columns": null,
       "grid_template_rows": null,
       "height": null,
       "justify_content": null,
       "justify_items": null,
       "left": null,
       "margin": null,
       "max_height": null,
       "max_width": null,
       "min_height": null,
       "min_width": null,
       "object_fit": null,
       "object_position": null,
       "order": null,
       "overflow": null,
       "overflow_x": null,
       "overflow_y": null,
       "padding": null,
       "right": null,
       "top": null,
       "visibility": null,
       "width": null
      }
     },
     "4f5f74c223874d4e88289292723d9950": {
      "model_module": "@jupyter-widgets/controls",
      "model_module_version": "1.5.0",
      "model_name": "DescriptionStyleModel",
      "state": {
       "_model_module": "@jupyter-widgets/controls",
       "_model_module_version": "1.5.0",
       "_model_name": "DescriptionStyleModel",
       "_view_count": null,
       "_view_module": "@jupyter-widgets/base",
       "_view_module_version": "1.2.0",
       "_view_name": "StyleView",
       "description_width": ""
      }
     },
     "51518b030527407297ae1ae039a8c25f": {
      "model_module": "@jupyter-widgets/controls",
      "model_module_version": "1.5.0",
      "model_name": "FloatProgressModel",
      "state": {
       "_dom_classes": [],
       "_model_module": "@jupyter-widgets/controls",
       "_model_module_version": "1.5.0",
       "_model_name": "FloatProgressModel",
       "_view_count": null,
       "_view_module": "@jupyter-widgets/controls",
       "_view_module_version": "1.5.0",
       "_view_name": "ProgressView",
       "bar_style": "success",
       "description": "",
       "description_tooltip": null,
       "layout": "IPY_MODEL_0b3b63f845554c3e9ec122a22557496f",
       "max": 1,
       "min": 0,
       "orientation": "horizontal",
       "style": "IPY_MODEL_99bf686e6b284e7bb29de197d1004c4d",
       "value": 1
      }
     },
     "530ec43ca7b042708c4f25df8c6c9919": {
      "model_module": "@jupyter-widgets/controls",
      "model_module_version": "1.5.0",
      "model_name": "HTMLModel",
      "state": {
       "_dom_classes": [],
       "_model_module": "@jupyter-widgets/controls",
       "_model_module_version": "1.5.0",
       "_model_name": "HTMLModel",
       "_view_count": null,
       "_view_module": "@jupyter-widgets/controls",
       "_view_module_version": "1.5.0",
       "_view_name": "HTMLView",
       "description": "",
       "description_tooltip": null,
       "layout": "IPY_MODEL_d9794cdb3d5140d59b95f9d39eacdd88",
       "placeholder": "​",
       "style": "IPY_MODEL_22ed0daeabce4957aeb929d2a2307d64",
       "value": "Batches: 100%"
      }
     },
     "56e0c4c7580845d280b8bd47b3acff70": {
      "model_module": "@jupyter-widgets/controls",
      "model_module_version": "1.5.0",
      "model_name": "HTMLModel",
      "state": {
       "_dom_classes": [],
       "_model_module": "@jupyter-widgets/controls",
       "_model_module_version": "1.5.0",
       "_model_name": "HTMLModel",
       "_view_count": null,
       "_view_module": "@jupyter-widgets/controls",
       "_view_module_version": "1.5.0",
       "_view_name": "HTMLView",
       "description": "",
       "description_tooltip": null,
       "layout": "IPY_MODEL_6f4b5a7adaa54ea4ab371a954af8d948",
       "placeholder": "​",
       "style": "IPY_MODEL_4f5f74c223874d4e88289292723d9950",
       "value": "Batches: 100%"
      }
     },
     "57403ebe80664f2caee283b7c9f415cf": {
      "model_module": "@jupyter-widgets/controls",
      "model_module_version": "1.5.0",
      "model_name": "FloatProgressModel",
      "state": {
       "_dom_classes": [],
       "_model_module": "@jupyter-widgets/controls",
       "_model_module_version": "1.5.0",
       "_model_name": "FloatProgressModel",
       "_view_count": null,
       "_view_module": "@jupyter-widgets/controls",
       "_view_module_version": "1.5.0",
       "_view_name": "ProgressView",
       "bar_style": "success",
       "description": "",
       "description_tooltip": null,
       "layout": "IPY_MODEL_263887cd147f45f7be346ef4a3bd93ca",
       "max": 1,
       "min": 0,
       "orientation": "horizontal",
       "style": "IPY_MODEL_7aaaa1b4d45d406e9e2f323acdbcd2ee",
       "value": 1
      }
     },
     "65c050bb1d2f4a2bb054621614c98683": {
      "model_module": "@jupyter-widgets/base",
      "model_module_version": "1.2.0",
      "model_name": "LayoutModel",
      "state": {
       "_model_module": "@jupyter-widgets/base",
       "_model_module_version": "1.2.0",
       "_model_name": "LayoutModel",
       "_view_count": null,
       "_view_module": "@jupyter-widgets/base",
       "_view_module_version": "1.2.0",
       "_view_name": "LayoutView",
       "align_content": null,
       "align_items": null,
       "align_self": null,
       "border": null,
       "bottom": null,
       "display": null,
       "flex": null,
       "flex_flow": null,
       "grid_area": null,
       "grid_auto_columns": null,
       "grid_auto_flow": null,
       "grid_auto_rows": null,
       "grid_column": null,
       "grid_gap": null,
       "grid_row": null,
       "grid_template_areas": null,
       "grid_template_columns": null,
       "grid_template_rows": null,
       "height": null,
       "justify_content": null,
       "justify_items": null,
       "left": null,
       "margin": null,
       "max_height": null,
       "max_width": null,
       "min_height": null,
       "min_width": null,
       "object_fit": null,
       "object_position": null,
       "order": null,
       "overflow": null,
       "overflow_x": null,
       "overflow_y": null,
       "padding": null,
       "right": null,
       "top": null,
       "visibility": null,
       "width": null
      }
     },
     "6f4b5a7adaa54ea4ab371a954af8d948": {
      "model_module": "@jupyter-widgets/base",
      "model_module_version": "1.2.0",
      "model_name": "LayoutModel",
      "state": {
       "_model_module": "@jupyter-widgets/base",
       "_model_module_version": "1.2.0",
       "_model_name": "LayoutModel",
       "_view_count": null,
       "_view_module": "@jupyter-widgets/base",
       "_view_module_version": "1.2.0",
       "_view_name": "LayoutView",
       "align_content": null,
       "align_items": null,
       "align_self": null,
       "border": null,
       "bottom": null,
       "display": null,
       "flex": null,
       "flex_flow": null,
       "grid_area": null,
       "grid_auto_columns": null,
       "grid_auto_flow": null,
       "grid_auto_rows": null,
       "grid_column": null,
       "grid_gap": null,
       "grid_row": null,
       "grid_template_areas": null,
       "grid_template_columns": null,
       "grid_template_rows": null,
       "height": null,
       "justify_content": null,
       "justify_items": null,
       "left": null,
       "margin": null,
       "max_height": null,
       "max_width": null,
       "min_height": null,
       "min_width": null,
       "object_fit": null,
       "object_position": null,
       "order": null,
       "overflow": null,
       "overflow_x": null,
       "overflow_y": null,
       "padding": null,
       "right": null,
       "top": null,
       "visibility": null,
       "width": null
      }
     },
     "74381265229641feaed24c1e0f1c4f07": {
      "model_module": "@jupyter-widgets/controls",
      "model_module_version": "1.5.0",
      "model_name": "ProgressStyleModel",
      "state": {
       "_model_module": "@jupyter-widgets/controls",
       "_model_module_version": "1.5.0",
       "_model_name": "ProgressStyleModel",
       "_view_count": null,
       "_view_module": "@jupyter-widgets/base",
       "_view_module_version": "1.2.0",
       "_view_name": "StyleView",
       "bar_color": null,
       "description_width": ""
      }
     },
     "748b6a1c08f14098a30c4737101ebb4b": {
      "model_module": "@jupyter-widgets/base",
      "model_module_version": "1.2.0",
      "model_name": "LayoutModel",
      "state": {
       "_model_module": "@jupyter-widgets/base",
       "_model_module_version": "1.2.0",
       "_model_name": "LayoutModel",
       "_view_count": null,
       "_view_module": "@jupyter-widgets/base",
       "_view_module_version": "1.2.0",
       "_view_name": "LayoutView",
       "align_content": null,
       "align_items": null,
       "align_self": null,
       "border": null,
       "bottom": null,
       "display": null,
       "flex": null,
       "flex_flow": null,
       "grid_area": null,
       "grid_auto_columns": null,
       "grid_auto_flow": null,
       "grid_auto_rows": null,
       "grid_column": null,
       "grid_gap": null,
       "grid_row": null,
       "grid_template_areas": null,
       "grid_template_columns": null,
       "grid_template_rows": null,
       "height": null,
       "justify_content": null,
       "justify_items": null,
       "left": null,
       "margin": null,
       "max_height": null,
       "max_width": null,
       "min_height": null,
       "min_width": null,
       "object_fit": null,
       "object_position": null,
       "order": null,
       "overflow": null,
       "overflow_x": null,
       "overflow_y": null,
       "padding": null,
       "right": null,
       "top": null,
       "visibility": null,
       "width": null
      }
     },
     "7861bb32fb0a4747bf9021dc4e27870c": {
      "model_module": "@jupyter-widgets/controls",
      "model_module_version": "1.5.0",
      "model_name": "HBoxModel",
      "state": {
       "_dom_classes": [],
       "_model_module": "@jupyter-widgets/controls",
       "_model_module_version": "1.5.0",
       "_model_name": "HBoxModel",
       "_view_count": null,
       "_view_module": "@jupyter-widgets/controls",
       "_view_module_version": "1.5.0",
       "_view_name": "HBoxView",
       "box_style": "",
       "children": [
        "IPY_MODEL_56e0c4c7580845d280b8bd47b3acff70",
        "IPY_MODEL_47d1d09ceffc469c85bd3e50c206fad1",
        "IPY_MODEL_afbd1eb85a584203904c5385b3da26f7"
       ],
       "layout": "IPY_MODEL_ebb75624ec7d49a9af5111a625011898"
      }
     },
     "7aaaa1b4d45d406e9e2f323acdbcd2ee": {
      "model_module": "@jupyter-widgets/controls",
      "model_module_version": "1.5.0",
      "model_name": "ProgressStyleModel",
      "state": {
       "_model_module": "@jupyter-widgets/controls",
       "_model_module_version": "1.5.0",
       "_model_name": "ProgressStyleModel",
       "_view_count": null,
       "_view_module": "@jupyter-widgets/base",
       "_view_module_version": "1.2.0",
       "_view_name": "StyleView",
       "bar_color": null,
       "description_width": ""
      }
     },
     "8f9ef5d92ae74affbf898cf93ea6bd8c": {
      "model_module": "@jupyter-widgets/controls",
      "model_module_version": "1.5.0",
      "model_name": "DescriptionStyleModel",
      "state": {
       "_model_module": "@jupyter-widgets/controls",
       "_model_module_version": "1.5.0",
       "_model_name": "DescriptionStyleModel",
       "_view_count": null,
       "_view_module": "@jupyter-widgets/base",
       "_view_module_version": "1.2.0",
       "_view_name": "StyleView",
       "description_width": ""
      }
     },
     "99bf686e6b284e7bb29de197d1004c4d": {
      "model_module": "@jupyter-widgets/controls",
      "model_module_version": "1.5.0",
      "model_name": "ProgressStyleModel",
      "state": {
       "_model_module": "@jupyter-widgets/controls",
       "_model_module_version": "1.5.0",
       "_model_name": "ProgressStyleModel",
       "_view_count": null,
       "_view_module": "@jupyter-widgets/base",
       "_view_module_version": "1.2.0",
       "_view_name": "StyleView",
       "bar_color": null,
       "description_width": ""
      }
     },
     "afbd1eb85a584203904c5385b3da26f7": {
      "model_module": "@jupyter-widgets/controls",
      "model_module_version": "1.5.0",
      "model_name": "HTMLModel",
      "state": {
       "_dom_classes": [],
       "_model_module": "@jupyter-widgets/controls",
       "_model_module_version": "1.5.0",
       "_model_name": "HTMLModel",
       "_view_count": null,
       "_view_module": "@jupyter-widgets/controls",
       "_view_module_version": "1.5.0",
       "_view_name": "HTMLView",
       "description": "",
       "description_tooltip": null,
       "layout": "IPY_MODEL_65c050bb1d2f4a2bb054621614c98683",
       "placeholder": "​",
       "style": "IPY_MODEL_04200efd549a449c95c14ba2b8e5e744",
       "value": " 1/1 [00:00&lt;00:00, 13.68it/s]"
      }
     },
     "cf7915fe8d7a4fc9aa127682cf71dc65": {
      "model_module": "@jupyter-widgets/base",
      "model_module_version": "1.2.0",
      "model_name": "LayoutModel",
      "state": {
       "_model_module": "@jupyter-widgets/base",
       "_model_module_version": "1.2.0",
       "_model_name": "LayoutModel",
       "_view_count": null,
       "_view_module": "@jupyter-widgets/base",
       "_view_module_version": "1.2.0",
       "_view_name": "LayoutView",
       "align_content": null,
       "align_items": null,
       "align_self": null,
       "border": null,
       "bottom": null,
       "display": null,
       "flex": null,
       "flex_flow": null,
       "grid_area": null,
       "grid_auto_columns": null,
       "grid_auto_flow": null,
       "grid_auto_rows": null,
       "grid_column": null,
       "grid_gap": null,
       "grid_row": null,
       "grid_template_areas": null,
       "grid_template_columns": null,
       "grid_template_rows": null,
       "height": null,
       "justify_content": null,
       "justify_items": null,
       "left": null,
       "margin": null,
       "max_height": null,
       "max_width": null,
       "min_height": null,
       "min_width": null,
       "object_fit": null,
       "object_position": null,
       "order": null,
       "overflow": null,
       "overflow_x": null,
       "overflow_y": null,
       "padding": null,
       "right": null,
       "top": null,
       "visibility": null,
       "width": null
      }
     },
     "d770e45e9d9540a1b5071fe7db04af0f": {
      "model_module": "@jupyter-widgets/controls",
      "model_module_version": "1.5.0",
      "model_name": "HBoxModel",
      "state": {
       "_dom_classes": [],
       "_model_module": "@jupyter-widgets/controls",
       "_model_module_version": "1.5.0",
       "_model_name": "HBoxModel",
       "_view_count": null,
       "_view_module": "@jupyter-widgets/controls",
       "_view_module_version": "1.5.0",
       "_view_name": "HBoxView",
       "box_style": "",
       "children": [
        "IPY_MODEL_e74dc72bf4f84457a5dfd787c6c38d4f",
        "IPY_MODEL_51518b030527407297ae1ae039a8c25f",
        "IPY_MODEL_e67c5c42cef04ca2927e22ff00112e29"
       ],
       "layout": "IPY_MODEL_3e073be147f047eab93041b6f10a2aa5"
      }
     },
     "d9794cdb3d5140d59b95f9d39eacdd88": {
      "model_module": "@jupyter-widgets/base",
      "model_module_version": "1.2.0",
      "model_name": "LayoutModel",
      "state": {
       "_model_module": "@jupyter-widgets/base",
       "_model_module_version": "1.2.0",
       "_model_name": "LayoutModel",
       "_view_count": null,
       "_view_module": "@jupyter-widgets/base",
       "_view_module_version": "1.2.0",
       "_view_name": "LayoutView",
       "align_content": null,
       "align_items": null,
       "align_self": null,
       "border": null,
       "bottom": null,
       "display": null,
       "flex": null,
       "flex_flow": null,
       "grid_area": null,
       "grid_auto_columns": null,
       "grid_auto_flow": null,
       "grid_auto_rows": null,
       "grid_column": null,
       "grid_gap": null,
       "grid_row": null,
       "grid_template_areas": null,
       "grid_template_columns": null,
       "grid_template_rows": null,
       "height": null,
       "justify_content": null,
       "justify_items": null,
       "left": null,
       "margin": null,
       "max_height": null,
       "max_width": null,
       "min_height": null,
       "min_width": null,
       "object_fit": null,
       "object_position": null,
       "order": null,
       "overflow": null,
       "overflow_x": null,
       "overflow_y": null,
       "padding": null,
       "right": null,
       "top": null,
       "visibility": null,
       "width": null
      }
     },
     "e67c5c42cef04ca2927e22ff00112e29": {
      "model_module": "@jupyter-widgets/controls",
      "model_module_version": "1.5.0",
      "model_name": "HTMLModel",
      "state": {
       "_dom_classes": [],
       "_model_module": "@jupyter-widgets/controls",
       "_model_module_version": "1.5.0",
       "_model_name": "HTMLModel",
       "_view_count": null,
       "_view_module": "@jupyter-widgets/controls",
       "_view_module_version": "1.5.0",
       "_view_name": "HTMLView",
       "description": "",
       "description_tooltip": null,
       "layout": "IPY_MODEL_39961f193ef746d3bc2b057a95a0d64c",
       "placeholder": "​",
       "style": "IPY_MODEL_f28fa79cf7384b2f9b0896724dec0cf4",
       "value": " 1/1 [00:00&lt;00:00,  2.14it/s]"
      }
     },
     "e74dc72bf4f84457a5dfd787c6c38d4f": {
      "model_module": "@jupyter-widgets/controls",
      "model_module_version": "1.5.0",
      "model_name": "HTMLModel",
      "state": {
       "_dom_classes": [],
       "_model_module": "@jupyter-widgets/controls",
       "_model_module_version": "1.5.0",
       "_model_name": "HTMLModel",
       "_view_count": null,
       "_view_module": "@jupyter-widgets/controls",
       "_view_module_version": "1.5.0",
       "_view_name": "HTMLView",
       "description": "",
       "description_tooltip": null,
       "layout": "IPY_MODEL_cf7915fe8d7a4fc9aa127682cf71dc65",
       "placeholder": "​",
       "style": "IPY_MODEL_0c9c31c238804ff289f35944c0ef60ab",
       "value": "Batches: 100%"
      }
     },
     "ebb75624ec7d49a9af5111a625011898": {
      "model_module": "@jupyter-widgets/base",
      "model_module_version": "1.2.0",
      "model_name": "LayoutModel",
      "state": {
       "_model_module": "@jupyter-widgets/base",
       "_model_module_version": "1.2.0",
       "_model_name": "LayoutModel",
       "_view_count": null,
       "_view_module": "@jupyter-widgets/base",
       "_view_module_version": "1.2.0",
       "_view_name": "LayoutView",
       "align_content": null,
       "align_items": null,
       "align_self": null,
       "border": null,
       "bottom": null,
       "display": null,
       "flex": null,
       "flex_flow": null,
       "grid_area": null,
       "grid_auto_columns": null,
       "grid_auto_flow": null,
       "grid_auto_rows": null,
       "grid_column": null,
       "grid_gap": null,
       "grid_row": null,
       "grid_template_areas": null,
       "grid_template_columns": null,
       "grid_template_rows": null,
       "height": null,
       "justify_content": null,
       "justify_items": null,
       "left": null,
       "margin": null,
       "max_height": null,
       "max_width": null,
       "min_height": null,
       "min_width": null,
       "object_fit": null,
       "object_position": null,
       "order": null,
       "overflow": null,
       "overflow_x": null,
       "overflow_y": null,
       "padding": null,
       "right": null,
       "top": null,
       "visibility": null,
       "width": null
      }
     },
     "f28fa79cf7384b2f9b0896724dec0cf4": {
      "model_module": "@jupyter-widgets/controls",
      "model_module_version": "1.5.0",
      "model_name": "DescriptionStyleModel",
      "state": {
       "_model_module": "@jupyter-widgets/controls",
       "_model_module_version": "1.5.0",
       "_model_name": "DescriptionStyleModel",
       "_view_count": null,
       "_view_module": "@jupyter-widgets/base",
       "_view_module_version": "1.2.0",
       "_view_name": "StyleView",
       "description_width": ""
      }
     },
     "fa34cb56a24e4952847595a889f28af4": {
      "model_module": "@jupyter-widgets/controls",
      "model_module_version": "1.5.0",
      "model_name": "HBoxModel",
      "state": {
       "_dom_classes": [],
       "_model_module": "@jupyter-widgets/controls",
       "_model_module_version": "1.5.0",
       "_model_name": "HBoxModel",
       "_view_count": null,
       "_view_module": "@jupyter-widgets/controls",
       "_view_module_version": "1.5.0",
       "_view_name": "HBoxView",
       "box_style": "",
       "children": [
        "IPY_MODEL_530ec43ca7b042708c4f25df8c6c9919",
        "IPY_MODEL_57403ebe80664f2caee283b7c9f415cf",
        "IPY_MODEL_011a8c565c2447969a08180995f45300"
       ],
       "layout": "IPY_MODEL_4c711cd49cd84c218b6c2fea8e243817"
      }
     }
    },
    "version_major": 2,
    "version_minor": 0
   }
  }
 },
 "nbformat": 4,
 "nbformat_minor": 5
}
